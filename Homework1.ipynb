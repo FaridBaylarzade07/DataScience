{
  "nbformat": 4,
  "nbformat_minor": 0,
  "metadata": {
    "colab": {
      "name": "Homework1.ipynb",
      "provenance": [],
      "collapsed_sections": [],
      "include_colab_link": true
    },
    "kernelspec": {
      "name": "python3",
      "display_name": "Python 3"
    },
    "language_info": {
      "name": "python"
    }
  },
  "cells": [
    {
      "cell_type": "markdown",
      "metadata": {
        "id": "view-in-github",
        "colab_type": "text"
      },
      "source": [
        "<a href=\"https://colab.research.google.com/github/FaridBaylarzade07/DataScience/blob/main/Homework1.ipynb\" target=\"_parent\"><img src=\"https://colab.research.google.com/assets/colab-badge.svg\" alt=\"Open In Colab\"/></a>"
      ]
    },
    {
      "cell_type": "code",
      "execution_count": null,
      "metadata": {
        "colab": {
          "base_uri": "https://localhost:8080/"
        },
        "id": "jrVeHsm1rpdT",
        "outputId": "e116463c-40d1-4b71-f5cb-46c0020db4ff"
      },
      "outputs": [
        {
          "output_type": "stream",
          "name": "stdout",
          "text": [
            "What is your name? Hulusi\n",
            "What is your age? 43\n",
            "Your name is Hulusi. Your age is 43\n"
          ]
        }
      ],
      "source": [
        "#Q1-Get your name and age as input and print it in the form like\n",
        "#Your name is Hulisi. Your age is 43\n",
        "name=input('What is your name? ')\n",
        "age=input('What is your age? ')\n",
        "print('Your name is ' + name + '. ' + 'Your age is ' + age)"
      ]
    },
    {
      "cell_type": "code",
      "source": [
        "#Q2-Write a if statement for a given two number is equal or not\n",
        "a=43\n",
        "b=54\n",
        "if (a==b):\n",
        "  print('a and b are equal')\n",
        "else:\n",
        "  print('a and b are not equal')"
      ],
      "metadata": {
        "id": "7Sfg03_PuVWa",
        "outputId": "f95b0455-80b5-4034-df0d-bc6876d66ada",
        "colab": {
          "base_uri": "https://localhost:8080/"
        }
      },
      "execution_count": null,
      "outputs": [
        {
          "output_type": "stream",
          "name": "stdout",
          "text": [
            "a and b are not equal\n"
          ]
        }
      ]
    },
    {
      "cell_type": "code",
      "source": [
        "#Q3-Write a if statement for first number is greater (a), equal or less than second number.(b)\n",
        "a=43\n",
        "b=54\n",
        "if (a>b):\n",
        "  print('a is greater than b')\n",
        "elif (a==b):\n",
        "  print('a is equal to b')\n",
        "else:\n",
        "  print('a is less than b')"
      ],
      "metadata": {
        "id": "NtUibZ07u5gs",
        "outputId": "be61a78f-2fbd-4524-db30-b4bf5bb9869a",
        "colab": {
          "base_uri": "https://localhost:8080/"
        }
      },
      "execution_count": null,
      "outputs": [
        {
          "output_type": "stream",
          "name": "stdout",
          "text": [
            "a is less than b\n"
          ]
        }
      ]
    },
    {
      "cell_type": "code",
      "source": [
        "#Q4- Using for loop, print 1,2,3,4,5\n",
        "for k in range(1,6,1):\n",
        "  print(k)"
      ],
      "metadata": {
        "id": "U1UMQv36wNHP",
        "outputId": "e8271d9f-4447-47cd-de64-73507fc954c3",
        "colab": {
          "base_uri": "https://localhost:8080/"
        }
      },
      "execution_count": null,
      "outputs": [
        {
          "output_type": "stream",
          "name": "stdout",
          "text": [
            "1\n",
            "2\n",
            "3\n",
            "4\n",
            "5\n"
          ]
        }
      ]
    },
    {
      "cell_type": "code",
      "source": [
        "#Q5-Using while loop, print 5,4,3,2,1\n",
        "i=5\n",
        "while i > 0:\n",
        "  print(i)\n",
        "  i-=1"
      ],
      "metadata": {
        "id": "bh5Lga7XxGY8",
        "outputId": "3539c845-899e-4814-977b-bc6804e9421d",
        "colab": {
          "base_uri": "https://localhost:8080/"
        }
      },
      "execution_count": null,
      "outputs": [
        {
          "output_type": "stream",
          "name": "stdout",
          "text": [
            "5\n",
            "4\n",
            "3\n",
            "2\n",
            "1\n"
          ]
        }
      ]
    },
    {
      "cell_type": "code",
      "source": [
        "#Q6- Using for loop, print 10,6,4,2,0\n",
        "#Hint Print if number is not equal to 8.\n",
        "\n",
        "for k in range(10,-1,-2):\n",
        "  if k==8:\n",
        "    continue;\n",
        "  else:\n",
        "   print(k)"
      ],
      "metadata": {
        "id": "cXTTDS49xSoi",
        "outputId": "8f5e432e-3a7d-4b7a-beb3-2b93f652254b",
        "colab": {
          "base_uri": "https://localhost:8080/"
        }
      },
      "execution_count": null,
      "outputs": [
        {
          "output_type": "stream",
          "name": "stdout",
          "text": [
            "10\n",
            "6\n",
            "4\n",
            "2\n",
            "0\n"
          ]
        }
      ]
    },
    {
      "cell_type": "code",
      "source": [
        "#Q7-Write a method to calculate age for a given date of birth year.\n",
        "#Use this method on orer to calculate age of person if date of birth is 1944\n",
        "# if age is the name of function, print(age(1944))\n",
        "current_year = 2022;\n",
        "\n",
        "def age(dateOfBirth):\n",
        "  return current_year - dateOfBirth\n",
        "\n",
        "print(age(1944))\n"
      ],
      "metadata": {
        "id": "geUjb-vuyYbF",
        "outputId": "fe6ff436-428a-467e-f70c-ba802b135d67",
        "colab": {
          "base_uri": "https://localhost:8080/"
        }
      },
      "execution_count": null,
      "outputs": [
        {
          "output_type": "stream",
          "name": "stdout",
          "text": [
            "78\n"
          ]
        }
      ]
    },
    {
      "cell_type": "code",
      "source": [
        "#Q8-Write a class named arithmetic with method for calculating addition, substraction, multiplication and division of two numbers.\n",
        "class arithmetic:\n",
        "  def addition(n,k):\n",
        "    return n + k\n",
        "  def substraction(n,k):\n",
        "    return n - k\n",
        "  def multiplication(n,k):\n",
        "    return n * k\n",
        "  def division(n,k):\n",
        "    return n / k\n",
        "\n",
        "print(arithmetic.addition(3,2))\n",
        "print(arithmetic.substraction(3,2))\n",
        "print(arithmetic.multiplication(3,2))\n",
        "print(arithmetic.division(3,2))"
      ],
      "metadata": {
        "id": "YcyFzE3fzC7_",
        "outputId": "de6cf149-ed87-4384-aa94-5d1e40ff2640",
        "colab": {
          "base_uri": "https://localhost:8080/"
        }
      },
      "execution_count": null,
      "outputs": [
        {
          "output_type": "stream",
          "name": "stdout",
          "text": [
            "5\n",
            "1\n",
            "6\n",
            "1.5\n"
          ]
        }
      ]
    },
    {
      "cell_type": "code",
      "source": [
        "#Q9- write a for loop or method  to calculate summation of first n numbers\n",
        "#i.e if n=3, it will print or return 6 (1+2+3)\n",
        "k=int(input('Enter number'))\n",
        "\n",
        "def summation(i):\n",
        "  cre = i + 1\n",
        "  res = 0;\n",
        "  for n in range(0,cre):\n",
        "     res = res + n\n",
        "  return res\n",
        "\n",
        "print(summation(4))"
      ],
      "metadata": {
        "id": "AUJWr5YqzadI",
        "outputId": "b8807daf-4ce3-4776-f6db-0fe051f34045",
        "colab": {
          "base_uri": "https://localhost:8080/"
        }
      },
      "execution_count": null,
      "outputs": [
        {
          "output_type": "stream",
          "name": "stdout",
          "text": [
            "Enter number4\n",
            "10\n"
          ]
        }
      ]
    },
    {
      "cell_type": "code",
      "source": [
        "#Q10-Generate 10 numbers between 0 and 1 and add into list. Print first three elements of that list. \n",
        "import numpy as np\n",
        "\n",
        "iList = []\n",
        "\n",
        "for n in range(10):\n",
        "  iList.append(np.round(np.random.rand(), 4))\n",
        "print(iList)\n",
        "print(iList[:3])"
      ],
      "metadata": {
        "id": "hmtvJdCL02qx",
        "outputId": "313269fa-3dde-412b-d53f-75225934d579",
        "colab": {
          "base_uri": "https://localhost:8080/"
        }
      },
      "execution_count": null,
      "outputs": [
        {
          "output_type": "stream",
          "name": "stdout",
          "text": [
            "[0.505, 0.327, 0.7475, 0.6619, 0.7236, 0.0178, 0.3942, 0.0071, 0.578, 0.0474]\n",
            "[0.505, 0.327, 0.7475]\n"
          ]
        }
      ]
    },
    {
      "cell_type": "code",
      "source": [
        "#Q11-For a given number n, print numbers divisible by 3 up to that number(n included)\n",
        "#Example: if n=15, print 3,6,9,12,15\n",
        "#Hint you can use modulus statement (if (i%3==0))\n",
        "n=15\n",
        "\n",
        "k=int(input('Enter number'))\n",
        "\n",
        "def divisionArray(i):\n",
        "  nList = [];\n",
        "  for n in range(1,i+1,1):\n",
        "    if(n%3==0):\n",
        "      nList.append(n);\n",
        "    else:\n",
        "      continue;\n",
        "  return nList; sep = ', '\n",
        "\n",
        "divisionArray(k)\n",
        "print(divisionArray(k))"
      ],
      "metadata": {
        "id": "5O6Y2CujcAAs",
        "outputId": "eb4c73ac-eea5-4fad-e424-bcf0cf23ed34",
        "colab": {
          "base_uri": "https://localhost:8080/"
        }
      },
      "execution_count": null,
      "outputs": [
        {
          "output_type": "stream",
          "name": "stdout",
          "text": [
            "Enter number13\n",
            "[3, 6, 9, 12]\n"
          ]
        }
      ]
    }
  ]
}